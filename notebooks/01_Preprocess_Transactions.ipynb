{
 "cells": [
  {
   "cell_type": "markdown",
   "id": "f609cb02",
   "metadata": {},
   "source": [
    "# 🧼 Transaction Data Preprocessing\n",
    "\n",
    "This notebook prepares the transaction data for market basket analysis.\n",
    "\n",
    "We'll:\n",
    "- Load the raw CSV\n",
    "- Clean and transform the data\n",
    "- Group items by transaction to prepare for frequent itemset mining"
   ]
  },
  {
   "cell_type": "markdown",
   "id": "3e722804",
   "metadata": {},
   "source": [
    "## 📥 Load Dataset\n",
    "\n",
    "We'll load the CSV file containing transactional data where each row represents a single item in a transaction."
   ]
  },
  {
   "cell_type": "code",
   "execution_count": 3,
   "id": "18be675f",
   "metadata": {},
   "outputs": [
    {
     "data": {
      "text/html": [
       "<div>\n",
       "<style scoped>\n",
       "    .dataframe tbody tr th:only-of-type {\n",
       "        vertical-align: middle;\n",
       "    }\n",
       "\n",
       "    .dataframe tbody tr th {\n",
       "        vertical-align: top;\n",
       "    }\n",
       "\n",
       "    .dataframe thead th {\n",
       "        text-align: right;\n",
       "    }\n",
       "</style>\n",
       "<table border=\"1\" class=\"dataframe\">\n",
       "  <thead>\n",
       "    <tr style=\"text-align: right;\">\n",
       "      <th></th>\n",
       "      <th>TransactionID</th>\n",
       "      <th>CustomerID</th>\n",
       "      <th>Item</th>\n",
       "    </tr>\n",
       "  </thead>\n",
       "  <tbody>\n",
       "    <tr>\n",
       "      <th>0</th>\n",
       "      <td>T0001</td>\n",
       "      <td>82</td>\n",
       "      <td>Bread</td>\n",
       "    </tr>\n",
       "    <tr>\n",
       "      <th>1</th>\n",
       "      <td>T0002</td>\n",
       "      <td>95</td>\n",
       "      <td>Eggs</td>\n",
       "    </tr>\n",
       "    <tr>\n",
       "      <th>2</th>\n",
       "      <td>T0002</td>\n",
       "      <td>95</td>\n",
       "      <td>Tomatoes</td>\n",
       "    </tr>\n",
       "    <tr>\n",
       "      <th>3</th>\n",
       "      <td>T0002</td>\n",
       "      <td>95</td>\n",
       "      <td>Butter</td>\n",
       "    </tr>\n",
       "    <tr>\n",
       "      <th>4</th>\n",
       "      <td>T0003</td>\n",
       "      <td>95</td>\n",
       "      <td>Beef</td>\n",
       "    </tr>\n",
       "  </tbody>\n",
       "</table>\n",
       "</div>"
      ],
      "text/plain": [
       "  TransactionID  CustomerID      Item\n",
       "0         T0001          82     Bread\n",
       "1         T0002          95      Eggs\n",
       "2         T0002          95  Tomatoes\n",
       "3         T0002          95    Butter\n",
       "4         T0003          95      Beef"
      ]
     },
     "execution_count": 3,
     "metadata": {},
     "output_type": "execute_result"
    }
   ],
   "source": [
    "import pandas as pd\n",
    "\n",
    "# Load the data\n",
    "df = pd.read_csv(\"../data/market_basket_transactions.csv\")\n",
    "\n",
    "# Show basic structure\n",
    "df.head()"
   ]
  },
  {
   "cell_type": "markdown",
   "id": "a909bf50",
   "metadata": {},
   "source": [
    "## 🔍 Data Cleaning\n",
    "\n",
    "- Check for nulls or duplicates  \n",
    "- Make sure data types are correct  \n",
    "- Standardize column names"
   ]
  },
  {
   "cell_type": "code",
   "execution_count": 4,
   "id": "6a43a109",
   "metadata": {},
   "outputs": [
    {
     "name": "stdout",
     "output_type": "stream",
     "text": [
      "Missing values:\n",
      " TransactionID    0\n",
      "CustomerID       0\n",
      "Item             0\n",
      "dtype: int64\n"
     ]
    }
   ],
   "source": [
    "# Rename columns to remove spaces (optional)\n",
    "df.columns = df.columns.str.strip()\n",
    "\n",
    "# Check for missing values\n",
    "print(\"Missing values:\\n\", df.isnull().sum())\n",
    "\n",
    "# Drop duplicates if any\n",
    "df = df.drop_duplicates()\n",
    "\n",
    "# Convert TransactionID and CustomerID to string (if needed)\n",
    "df[\"TransactionID\"] = df[\"TransactionID\"].astype(str)\n",
    "df[\"CustomerID\"] = df[\"CustomerID\"].astype(str)"
   ]
  },
  {
   "cell_type": "markdown",
   "id": "a5e04a63",
   "metadata": {},
   "source": [
    "## 🛒 Group Items by Transaction\n",
    "\n",
    "Group all items purchased together under the same `TransactionID` to create the baskets required for association rule mining."
   ]
  },
  {
   "cell_type": "code",
   "execution_count": 5,
   "id": "a570f365",
   "metadata": {},
   "outputs": [
    {
     "data": {
      "text/html": [
       "<div>\n",
       "<style scoped>\n",
       "    .dataframe tbody tr th:only-of-type {\n",
       "        vertical-align: middle;\n",
       "    }\n",
       "\n",
       "    .dataframe tbody tr th {\n",
       "        vertical-align: top;\n",
       "    }\n",
       "\n",
       "    .dataframe thead th {\n",
       "        text-align: right;\n",
       "    }\n",
       "</style>\n",
       "<table border=\"1\" class=\"dataframe\">\n",
       "  <thead>\n",
       "    <tr style=\"text-align: right;\">\n",
       "      <th></th>\n",
       "      <th>TransactionID</th>\n",
       "      <th>Item</th>\n",
       "    </tr>\n",
       "  </thead>\n",
       "  <tbody>\n",
       "    <tr>\n",
       "      <th>0</th>\n",
       "      <td>T0001</td>\n",
       "      <td>[Bread]</td>\n",
       "    </tr>\n",
       "    <tr>\n",
       "      <th>1</th>\n",
       "      <td>T0002</td>\n",
       "      <td>[Eggs, Tomatoes, Butter]</td>\n",
       "    </tr>\n",
       "    <tr>\n",
       "      <th>2</th>\n",
       "      <td>T0003</td>\n",
       "      <td>[Beef]</td>\n",
       "    </tr>\n",
       "    <tr>\n",
       "      <th>3</th>\n",
       "      <td>T0004</td>\n",
       "      <td>[Apples, Bread, Beef, Chicken, Milk]</td>\n",
       "    </tr>\n",
       "    <tr>\n",
       "      <th>4</th>\n",
       "      <td>T0005</td>\n",
       "      <td>[Tomatoes, Bread, Eggs, Bananas, Apples]</td>\n",
       "    </tr>\n",
       "  </tbody>\n",
       "</table>\n",
       "</div>"
      ],
      "text/plain": [
       "  TransactionID                                      Item\n",
       "0         T0001                                   [Bread]\n",
       "1         T0002                  [Eggs, Tomatoes, Butter]\n",
       "2         T0003                                    [Beef]\n",
       "3         T0004      [Apples, Bread, Beef, Chicken, Milk]\n",
       "4         T0005  [Tomatoes, Bread, Eggs, Bananas, Apples]"
      ]
     },
     "execution_count": 5,
     "metadata": {},
     "output_type": "execute_result"
    }
   ],
   "source": [
    "# Create a list of items per transaction\n",
    "grouped_df = df.groupby(\"TransactionID\")[\"Item\"].apply(list).reset_index()\n",
    "\n",
    "grouped_df.head()"
   ]
  },
  {
   "cell_type": "markdown",
   "id": "e185547c",
   "metadata": {},
   "source": [
    "## ✅ Save Preprocessed Data\n",
    "\n",
    "We can save the grouped data into a new file that will be used in the next notebook."
   ]
  },
  {
   "cell_type": "code",
   "execution_count": 6,
   "id": "0599bad1",
   "metadata": {},
   "outputs": [
    {
     "name": "stdout",
     "output_type": "stream",
     "text": [
      "Grouped transactions saved successfully.\n"
     ]
    }
   ],
   "source": [
    "grouped_df.to_csv(\"../data/market_basket_grouped.csv\", index=False)\n",
    "print(\"Grouped transactions saved successfully.\")"
   ]
  }
 ],
 "metadata": {
  "kernelspec": {
   "display_name": "Python 3",
   "language": "python",
   "name": "python3"
  },
  "language_info": {
   "codemirror_mode": {
    "name": "ipython",
    "version": 3
   },
   "file_extension": ".py",
   "mimetype": "text/x-python",
   "name": "python",
   "nbconvert_exporter": "python",
   "pygments_lexer": "ipython3",
   "version": "3.12.1"
  }
 },
 "nbformat": 4,
 "nbformat_minor": 5
}
